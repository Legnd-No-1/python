{
 "cells": [
  {
   "cell_type": "markdown",
   "metadata": {},
   "source": [
    "## Python Socket"
   ]
  },
  {
   "cell_type": "code",
   "execution_count": 1,
   "metadata": {},
   "outputs": [
    {
     "name": "stdout",
     "output_type": "stream",
     "text": [
      "HTTP/1.1 200 OK\r\n",
      "Date: Sun, 18 Apr 2021 05:12:35 GMT\r\n",
      "Server: Apache/2.4.18 (Ubuntu)\r\n",
      "Last-Modified: Sat, 13 May 2017 11:22:22 GMT\r\n",
      "ETag: \"493-54f6609245537\"\r\n",
      "Accept-Ranges: bytes\r\n",
      "Content-Length: 1171\r\n",
      "Cache-Control: max-age=0, no-cache, no-store, must-revalidate\r\n",
      "Pragma: no-cache\r\n",
      "Expires: Wed, 11 Jan 1984 05:00:00 GMT\r\n",
      "Connection: close\r\n",
      "Content-Type: text/plain\r\n",
      "\r\n",
      "Writing programs or programming is a very creative\n",
      "and rewarding activity  You can write programs for\n",
      "many reasons ranging from making your living to solving\n",
      "a difficult data analysis problem to having fun to helping\n",
      "someone else solve a problem  This book assumes that\n",
      "{\\em everyone} needs to know how to program and that once\n",
      "you know how to program, you will figure out what you want\n",
      "to do with your newfound skills\n",
      "\n",
      "We are surrounded in our daily lives with computers ranging\n",
      "from laptops to cell phones  We can think of these computers\n",
      "as our personal assistants who can take care of many things\n",
      "on our behalf  The hardware in our current-day computers\n",
      "is essentially built to continuously ask us the question\n",
      "What would you like me to do next\n",
      "\n",
      "Our computers are fast and have vasts amounts of memory and \n",
      "could be very helpful to us if we only knew the language to \n",
      "speak to explain to the computer what we would like it to \n",
      "do next If we knew this language we could tell the \n",
      "computer to do tasks on our behalf that were reptitive  \n",
      "Interestingly, the kinds of things computers can do best\n",
      "are often the kinds of things that we humans find boring\n",
      "and mind-numbing\n"
     ]
    }
   ],
   "source": [
    "import socket\n",
    "\n",
    "mysock = socket.socket(socket.AF_INET, socket.SOCK_STREAM)\n",
    "mysock.connect(('data.pr4e.org', 80))\n",
    "cmd = 'GET http://data.pr4e.org/words.txt HTTP/1.0\\r\\n\\r\\n'.encode() # Bytes\n",
    "mysock.send(cmd)\n",
    "\n",
    "while True:\n",
    "    data = mysock.recv(512)\n",
    "    if len(data) < 1:\n",
    "        break\n",
    "    print(data.decode(),end='')\n",
    "\n",
    "mysock.close()"
   ]
  },
  {
   "cell_type": "code",
   "execution_count": 5,
   "metadata": {},
   "outputs": [
    {
     "name": "stdout",
     "output_type": "stream",
     "text": [
      "But soft what light through yonder window breaks\n",
      "It is the east and Juliet is the sun\n",
      "Arise fair sun and kill the envious moon\n",
      "Who is already sick and pale with grief\n"
     ]
    }
   ],
   "source": [
    "import urllib.request\n",
    "\n",
    "fhand = urllib.request.urlopen('http://data.pr4e.org/romeo.txt')\n",
    "for line in fhand:\n",
    "    print(line.decode().strip())"
   ]
  },
  {
   "cell_type": "code",
   "execution_count": 6,
   "metadata": {},
   "outputs": [
    {
     "name": "stdout",
     "output_type": "stream",
     "text": [
      "{'But': 1, 'soft': 1, 'what': 1, 'light': 1, 'through': 1, 'yonder': 1, 'window': 1, 'breaks': 1, 'It': 1, 'is': 3, 'the': 3, 'east': 1, 'and': 3, 'Juliet': 1, 'sun': 2, 'Arise': 1, 'fair': 1, 'kill': 1, 'envious': 1, 'moon': 1, 'Who': 1, 'already': 1, 'sick': 1, 'pale': 1, 'with': 1, 'grief': 1}\n"
     ]
    }
   ],
   "source": [
    "import urllib.request, urllib.parse, urllib.error\n",
    "\n",
    "fhand = urllib.request.urlopen('http://data.pr4e.org/romeo.txt')\n",
    "\n",
    "counts = dict()\n",
    "for line in fhand:\n",
    "    words = line.decode().split()\n",
    "    for word in words:\n",
    "        counts[word] = counts.get(word, 0) + 1\n",
    "print(counts)"
   ]
  },
  {
   "cell_type": "code",
   "execution_count": 6,
   "metadata": {},
   "outputs": [
    {
     "name": "stdout",
     "output_type": "stream",
     "text": [
      "But soft what light through yonder window breaks\n",
      "It is the east and Juliet is the sun\n",
      "Arise fair sun and kill the envious moon\n",
      "Who is already sick and pale with grief\n"
     ]
    }
   ],
   "source": [
    "import urllib.request, urllib.parse, urllib.error\n",
    "\n",
    "fhand = urllib.request.urlopen('http://data.pr4e.org/romeo.txt')\n",
    "for line in fhand:\n",
    "    print(line.decode().strip())"
   ]
  },
  {
   "cell_type": "code",
   "execution_count": null,
   "metadata": {},
   "outputs": [],
   "source": [
    "from urllib.request import urlopen\n",
    "from bs4 import BeautifulSoup\n",
    "import ssl\n",
    "\n",
    "# Ignore SSL certificate errors\n",
    "ctx = ssl.create_default_context()\n",
    "ctx.check_hostname = False\n",
    "ctx.verify_mode = ssl.CERT_NONE\n",
    "\n",
    "url = input('Enter - ')\n",
    "html = urlopen(url, context=ctx).read()\n",
    "soup = BeautifulSoup(html, \"html.parser\")\n",
    "\n",
    "# Retrieve all of the anchor tags\n",
    "tags = soup('a')\n",
    "for tag in tags:\n",
    "#     print('TAG:', tag)\n",
    "    print('URL:', tag.get('href', None))\n",
    "   # print('Contents:', tag.contents[0])\n",
    "#     print('Attrs:', tag.attrs)"
   ]
  },
  {
   "cell_type": "code",
   "execution_count": 6,
   "metadata": {},
   "outputs": [
    {
     "name": "stdout",
     "output_type": "stream",
     "text": [
      "Enter - https://www.google.com/\n",
      "https://www.google.co.in/imghp?hl=en&tab=wi\n",
      "https://maps.google.co.in/maps?hl=en&tab=wl\n",
      "https://play.google.com/?hl=en&tab=w8\n",
      "https://www.youtube.com/?gl=IN&tab=w1\n",
      "https://news.google.com/?tab=wn\n",
      "https://mail.google.com/mail/?tab=wm\n",
      "https://drive.google.com/?tab=wo\n",
      "https://www.google.co.in/intl/en/about/products?tab=wh\n",
      "http://www.google.co.in/history/optout?hl=en\n",
      "/preferences?hl=en\n",
      "https://accounts.google.com/ServiceLogin?hl=en&passive=true&continue=https://www.google.com/&ec=GAZAAQ\n",
      "/advanced_search?hl=en-IN&authuser=0\n",
      "https://www.google.com/setprefs?sig=0_fc_dEl053zo_r3vgnTbMJUH9nlQ%3D&hl=hi&source=homepage&sa=X&ved=0ahUKEwj-tdLf26LsAhWkQ3wKHSwpDVwQ2ZgBCAU\n",
      "https://www.google.com/setprefs?sig=0_fc_dEl053zo_r3vgnTbMJUH9nlQ%3D&hl=bn&source=homepage&sa=X&ved=0ahUKEwj-tdLf26LsAhWkQ3wKHSwpDVwQ2ZgBCAY\n",
      "https://www.google.com/setprefs?sig=0_fc_dEl053zo_r3vgnTbMJUH9nlQ%3D&hl=te&source=homepage&sa=X&ved=0ahUKEwj-tdLf26LsAhWkQ3wKHSwpDVwQ2ZgBCAc\n",
      "https://www.google.com/setprefs?sig=0_fc_dEl053zo_r3vgnTbMJUH9nlQ%3D&hl=mr&source=homepage&sa=X&ved=0ahUKEwj-tdLf26LsAhWkQ3wKHSwpDVwQ2ZgBCAg\n",
      "https://www.google.com/setprefs?sig=0_fc_dEl053zo_r3vgnTbMJUH9nlQ%3D&hl=ta&source=homepage&sa=X&ved=0ahUKEwj-tdLf26LsAhWkQ3wKHSwpDVwQ2ZgBCAk\n",
      "https://www.google.com/setprefs?sig=0_fc_dEl053zo_r3vgnTbMJUH9nlQ%3D&hl=gu&source=homepage&sa=X&ved=0ahUKEwj-tdLf26LsAhWkQ3wKHSwpDVwQ2ZgBCAo\n",
      "https://www.google.com/setprefs?sig=0_fc_dEl053zo_r3vgnTbMJUH9nlQ%3D&hl=kn&source=homepage&sa=X&ved=0ahUKEwj-tdLf26LsAhWkQ3wKHSwpDVwQ2ZgBCAs\n",
      "https://www.google.com/setprefs?sig=0_fc_dEl053zo_r3vgnTbMJUH9nlQ%3D&hl=ml&source=homepage&sa=X&ved=0ahUKEwj-tdLf26LsAhWkQ3wKHSwpDVwQ2ZgBCAw\n",
      "https://www.google.com/setprefs?sig=0_fc_dEl053zo_r3vgnTbMJUH9nlQ%3D&hl=pa&source=homepage&sa=X&ved=0ahUKEwj-tdLf26LsAhWkQ3wKHSwpDVwQ2ZgBCA0\n",
      "/intl/en/ads/\n",
      "http://www.google.co.in/services/\n",
      "/intl/en/about.html\n",
      "https://www.google.com/setprefdomain?prefdom=IN&prev=https://www.google.co.in/&sig=K_eqcr6oCMjk0_YgNpWqrMEhQ9g8I%3D\n",
      "/intl/en/policies/privacy/\n",
      "/intl/en/policies/terms/\n"
     ]
    }
   ],
   "source": [
    "import urllib.request, urllib.parse, urllib.error\n",
    "from bs4 import BeautifulSoup\n",
    "import ssl\n",
    "\n",
    "# Ignore SSL certificate errors\n",
    "ctx = ssl.create_default_context()\n",
    "ctx.check_hostname = False\n",
    "ctx.verify_mode = ssl.CERT_NONE\n",
    "\n",
    "url = input('Enter - ')\n",
    "html = urllib.request.urlopen(url, context=ctx).read()\n",
    "soup = BeautifulSoup(html, 'html.parser')\n",
    "\n",
    "# Retrieve all of the anchor tags\n",
    "tags = soup('a')\n",
    "for tag in tags:\n",
    "    print(tag.get('href', None))"
   ]
  },
  {
   "cell_type": "code",
   "execution_count": 3,
   "metadata": {},
   "outputs": [
    {
     "name": "stdout",
     "output_type": "stream",
     "text": [
      "{\n",
      "    \"success\": {\n",
      "        \"total\": 1\n",
      "    },\n",
      "    \"contents\": {\n",
      "        \"quotes\": [\n",
      "            {\n",
      "                \"quote\": \"Perfection is not attainable, but if we chase perfection we can catch excellence..\",\n",
      "                \"length\": \"84\",\n",
      "                \"author\": \"Vince Lombardi\",\n",
      "                \"tags\": [\n",
      "                    \"excellence\",\n",
      "                    \"inspire\",\n",
      "                    \"perfection\"\n",
      "                ],\n",
      "                \"category\": \"inspire\",\n",
      "                \"language\": \"en\",\n",
      "                \"date\": \"2021-04-18\",\n",
      "                \"permalink\": \"https://theysaidso.com/quote/vince-lombardi-perfection-is-not-attainable-but-if-we-chase-perfection-we-can-ca\",\n",
      "                \"id\": \"gj_IDZ0YRFY2o2_HqCfXAgeF\",\n",
      "                \"background\": \"https://theysaidso.com/img/qod/qod-inspire.jpg\",\n",
      "                \"title\": \"Inspiring Quote of the day\"\n",
      "            }\n",
      "        ]\n",
      "    },\n",
      "    \"baseurl\": \"https://theysaidso.com\",\n",
      "    \"copyright\": {\n",
      "        \"year\": 2023,\n",
      "        \"url\": \"https://theysaidso.com\"\n",
      "    }\n",
      "}\n"
     ]
    }
   ],
   "source": [
    "import requests\n",
    "import json\n",
    "\n",
    "#json from \"https://quotes.rest/qod.json\"\n",
    "r = requests.get(\"https://quotes.rest/qod.json\")\n",
    "res = r.json()\n",
    "print(json.dumps(res, indent = 4))"
   ]
  },
  {
   "cell_type": "code",
   "execution_count": 4,
   "metadata": {},
   "outputs": [
    {
     "data": {
      "text/plain": [
       "{'quote': 'Perfection is not attainable, but if we chase perfection we can catch excellence..',\n",
       " 'length': '84',\n",
       " 'author': 'Vince Lombardi',\n",
       " 'tags': ['excellence', 'inspire', 'perfection'],\n",
       " 'category': 'inspire',\n",
       " 'language': 'en',\n",
       " 'date': '2021-04-18',\n",
       " 'permalink': 'https://theysaidso.com/quote/vince-lombardi-perfection-is-not-attainable-but-if-we-chase-perfection-we-can-ca',\n",
       " 'id': 'gj_IDZ0YRFY2o2_HqCfXAgeF',\n",
       " 'background': 'https://theysaidso.com/img/qod/qod-inspire.jpg',\n",
       " 'title': 'Inspiring Quote of the day'}"
      ]
     },
     "execution_count": 4,
     "metadata": {},
     "output_type": "execute_result"
    }
   ],
   "source": [
    "q = res['contents']['quotes'][0]\n",
    "q"
   ]
  },
  {
   "cell_type": "code",
   "execution_count": 2,
   "metadata": {},
   "outputs": [
    {
     "name": "stdout",
     "output_type": "stream",
     "text": [
      "{\n",
      "    \"success\": {\n",
      "        \"total\": 1\n",
      "    },\n",
      "    \"contents\": {\n",
      "        \"quotes\": [\n",
      "            {\n",
      "                \"quote\": \"Perfection is not attainable, but if we chase perfection we can catch excellence..\",\n",
      "                \"length\": \"84\",\n",
      "                \"author\": \"Vince Lombardi\",\n",
      "                \"tags\": [\n",
      "                    \"excellence\",\n",
      "                    \"inspire\",\n",
      "                    \"perfection\"\n",
      "                ],\n",
      "                \"category\": \"inspire\",\n",
      "                \"language\": \"en\",\n",
      "                \"date\": \"2021-04-18\",\n",
      "                \"permalink\": \"https://theysaidso.com/quote/vince-lombardi-perfection-is-not-attainable-but-if-we-chase-perfection-we-can-ca\",\n",
      "                \"id\": \"gj_IDZ0YRFY2o2_HqCfXAgeF\",\n",
      "                \"background\": \"https://theysaidso.com/img/qod/qod-inspire.jpg\",\n",
      "                \"title\": \"Inspiring Quote of the day\"\n",
      "            }\n",
      "        ]\n",
      "    },\n",
      "    \"baseurl\": \"https://theysaidso.com\",\n",
      "    \"copyright\": {\n",
      "        \"year\": 2023,\n",
      "        \"url\": \"https://theysaidso.com\"\n",
      "    }\n",
      "}\n"
     ]
    },
    {
     "data": {
      "text/plain": [
       "{'quote': 'Perfection is not attainable, but if we chase perfection we can catch excellence..',\n",
       " 'length': '84',\n",
       " 'author': 'Vince Lombardi',\n",
       " 'tags': ['excellence', 'inspire', 'perfection'],\n",
       " 'category': 'inspire',\n",
       " 'language': 'en',\n",
       " 'date': '2021-04-18',\n",
       " 'permalink': 'https://theysaidso.com/quote/vince-lombardi-perfection-is-not-attainable-but-if-we-chase-perfection-we-can-ca',\n",
       " 'id': 'gj_IDZ0YRFY2o2_HqCfXAgeF',\n",
       " 'background': 'https://theysaidso.com/img/qod/qod-inspire.jpg',\n",
       " 'title': 'Inspiring Quote of the day'}"
      ]
     },
     "execution_count": 2,
     "metadata": {},
     "output_type": "execute_result"
    }
   ],
   "source": [
    "import requests\n",
    "import json\n",
    "\n",
    "#json from \"https://quotes.rest/qod.json\"\n",
    "r = requests.get(\"https://quotes.rest/qod.json\")\n",
    "res = r.json()\n",
    "print(json.dumps(res, indent = 4))\n",
    "q = res['contents']['quotes'][0]\n",
    "q"
   ]
  },
  {
   "cell_type": "code",
   "execution_count": null,
   "metadata": {},
   "outputs": [],
   "source": []
  }
 ],
 "metadata": {
  "kernelspec": {
   "display_name": "Python 3",
   "language": "python",
   "name": "python3"
  },
  "language_info": {
   "codemirror_mode": {
    "name": "ipython",
    "version": 3
   },
   "file_extension": ".py",
   "mimetype": "text/x-python",
   "name": "python",
   "nbconvert_exporter": "python",
   "pygments_lexer": "ipython3",
   "version": "3.8.5"
  }
 },
 "nbformat": 4,
 "nbformat_minor": 4
}
